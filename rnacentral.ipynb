{
 "cells": [
  {
   "cell_type": "markdown",
   "metadata": {},
   "source": [
    "# download from RNA Central using anonymous FTP"
   ]
  },
  {
   "cell_type": "code",
   "execution_count": 40,
   "metadata": {},
   "outputs": [
    {
     "name": "stdout",
     "output_type": "stream",
     "text": [
      "CPU times: user 68 ms, sys: 144 ms, total: 212 ms\n",
      "Wall time: 4.95 s\n"
     ]
    }
   ],
   "source": [
    "%%time\n",
    "import ftputil\n",
    "import gzip\n",
    "import shutil\n",
    "from os.path import basename\n",
    "\n",
    "rnac_ftp = 'ftp.ebi.ac.uk'\n",
    "rnac_file = 'Homo_sapiens.GRCh38.gff.gz'\n",
    "rnac_path = '/pub/databases/RNAcentral/releases/7.0/genome_coordinates/'+rnac_file\n",
    "\n",
    "with ftputil.FTPHost('ftp.ebi.ac.uk', 'anonymous', 'amnon.is+rnac@gmail.com') as host:\n",
    "    host.download(rnac_path, rnac_file)\n",
    "   \n",
    "\n"
   ]
  },
  {
   "cell_type": "markdown",
   "metadata": {},
   "source": [
    "# unzip gff file"
   ]
  },
  {
   "cell_type": "code",
   "execution_count": 41,
   "metadata": {},
   "outputs": [
    {
     "name": "stdout",
     "output_type": "stream",
     "text": [
      "CPU times: user 212 ms, sys: 144 ms, total: 356 ms\n",
      "Wall time: 359 ms\n"
     ]
    }
   ],
   "source": [
    "%%time\n",
    "import gzip\n",
    "import shutil\n",
    "gff_file = rnac_file.replace('.gz', '')\n",
    "with gzip.open(rnac_file, 'rb') as f_in:\n",
    "    with open(gff_file, 'wb') as f_out:\n",
    "        shutil.copyfileobj(f_in, f_out)"
   ]
  },
  {
   "cell_type": "code",
   "execution_count": 34,
   "metadata": {
    "collapsed": true
   },
   "outputs": [],
   "source": [
    "# read gff file"
   ]
  },
  {
   "cell_type": "code",
   "execution_count": 42,
   "metadata": {},
   "outputs": [
    {
     "name": "stdout",
     "output_type": "stream",
     "text": [
      "ID: 10\n",
      "Name: <unknown name>\n",
      "Description: <unknown description>\n",
      "Number of features: 3036\n",
      "UnknownSeq(133527513, alphabet = Alphabet(), character = '?')\n",
      "CPU times: user 2.19 s, sys: 12 ms, total: 2.2 s\n",
      "Wall time: 2.21 s\n"
     ]
    }
   ],
   "source": [
    "%%time\n",
    "import pprint\n",
    "from BCBio import GFF\n",
    "from BCBio.GFF import GFFExaminer\n",
    "\n",
    "in_file = gff_file\n",
    "\n",
    "\n",
    "limit_info = dict(\n",
    "        gff_id = [\"10\"])\n",
    "\n",
    "in_handle = open(in_file)\n",
    "for rec in GFF.parse(in_handle, limit_info=limit_info):\n",
    "    print (rec)\n",
    "in_handle.close()"
   ]
  }
 ],
 "metadata": {
  "celltoolbar": "Edit Metadata",
  "kernelspec": {
   "display_name": "Python 3",
   "language": "python",
   "name": "python3"
  },
  "language_info": {
   "codemirror_mode": {
    "name": "ipython",
    "version": 3
   },
   "file_extension": ".py",
   "mimetype": "text/x-python",
   "name": "python",
   "nbconvert_exporter": "python",
   "pygments_lexer": "ipython3",
   "version": "3.5.2"
  }
 },
 "nbformat": 4,
 "nbformat_minor": 1
}
